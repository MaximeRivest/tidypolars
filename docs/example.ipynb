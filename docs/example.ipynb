{
 "cells": [
  {
   "cell_type": "markdown",
   "metadata": {},
   "source": [
    "## Example usage\n",
    "\n",
    "`tidypolars` syntax is designed to be as familiar as possible to R tidyverse users."
   ]
  },
  {
   "cell_type": "code",
   "execution_count": null,
   "metadata": {},
   "outputs": [],
   "source": [
    "import tidypolars as tp\n",
    "from tidypolars import col, desc\n",
    "\n",
    "# Create a data frame\n",
    "df = tp.Tibble(x = range(3), y = range(4, 7), z = ['a', 'a', 'b'])\n",
    "\n",
    "# select columns\n",
    "df.select('x', 'y', 'z')\n",
    "\n",
    "# filter rows\n",
    "df.filter(col('x') < 4, col('y') > 0)\n",
    "\n",
    "# Add/edit columns\n",
    "df.mutate(double_x = col('x') * 2,\n",
    "          x_plus_y = col('x') + col('y'))\n",
    "\n",
    "# arrange/sort rows\n",
    "df.arrange('z', 'x')\n",
    "df.arrange(desc('z'), 'x')\n",
    "\n",
    "# summarize data\n",
    "df.summarize(avg_x = tp.mean(col('x')))"
   ]
  },
  {
   "cell_type": "markdown",
   "metadata": {},
   "source": [
    "### Group by syntax\n",
    "\n",
    "Methods operate by group by calling the `by` arg.\n",
    "\n",
    "* A single column can be passed with `by = 'z'`\n",
    "* Multiple columns can be passed with `by = ['y', 'z']`"
   ]
  },
  {
   "cell_type": "code",
   "execution_count": null,
   "metadata": {},
   "outputs": [],
   "source": [
    "# Using `by` with summarize\n",
    "df.summarize(avg_x = tp.mean(col('x')),\n",
    "             by = 'z')"
   ]
  },
  {
   "cell_type": "code",
   "execution_count": null,
   "metadata": {},
   "outputs": [],
   "source": [
    "# Using `by` with filter\n",
    "df.filter(col('x') <= tp.mean(col('x')), by = 'z')"
   ]
  }
 ],
 "metadata": {
  "interpreter": {
   "hash": "7e7b68015f9d8cfe97f3656e79d88495dc5e9a356cb119d288e46a1ea1a6c23c"
  },
  "kernelspec": {
   "display_name": "Python 3.9.7 64-bit ('tidypolars': conda)",
   "name": "python3"
  },
  "language_info": {
   "codemirror_mode": {
    "name": "ipython",
    "version": 3
   },
   "file_extension": ".py",
   "mimetype": "text/x-python",
   "name": "python",
   "nbconvert_exporter": "python",
   "pygments_lexer": "ipython3",
   "version": "3.9.7"
  }
 },
 "nbformat": 4,
 "nbformat_minor": 4
}
